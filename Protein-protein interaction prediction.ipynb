{
  "cells": [
    {
      "cell_type": "code",
      "source": [
        "!pip install -U gensim\n"
      ],
      "metadata": {
        "colab": {
          "base_uri": "https://localhost:8080/"
        },
        "id": "i3VkHyvI1bBB",
        "outputId": "cafee5a1-a8ff-4f19-b829-9cc605da36fe"
      },
      "execution_count": 8,
      "outputs": [
        {
          "output_type": "stream",
          "name": "stdout",
          "text": [
            "Looking in indexes: https://pypi.org/simple, https://us-python.pkg.dev/colab-wheels/public/simple/\n",
            "Requirement already satisfied: gensim in /usr/local/lib/python3.7/dist-packages (4.2.0)\n",
            "Requirement already satisfied: scipy>=0.18.1 in /usr/local/lib/python3.7/dist-packages (from gensim) (1.4.1)\n",
            "Requirement already satisfied: smart-open>=1.8.1 in /usr/local/lib/python3.7/dist-packages (from gensim) (6.0.0)\n",
            "Requirement already satisfied: numpy>=1.17.0 in /usr/local/lib/python3.7/dist-packages (from gensim) (1.21.6)\n"
          ]
        }
      ]
    },
    {
      "cell_type": "code",
      "source": [
        "from google.colab import drive\n",
        "drive.mount('/content/drive')"
      ],
      "metadata": {
        "colab": {
          "base_uri": "https://localhost:8080/"
        },
        "id": "9HhyfjRV1G4I",
        "outputId": "9e8d5088-74bc-4797-b8ed-e21af68a095b"
      },
      "execution_count": 1,
      "outputs": [
        {
          "output_type": "stream",
          "name": "stdout",
          "text": [
            "Mounted at /content/drive\n"
          ]
        }
      ]
    },
    {
      "cell_type": "code",
      "source": [
        "cd /content/drive/MyDrive/datasets/ppi"
      ],
      "metadata": {
        "colab": {
          "base_uri": "https://localhost:8080/"
        },
        "id": "bmJDG2yw1SSZ",
        "outputId": "ba2c1369-c806-4330-d14c-6d6ce687e4a9"
      },
      "execution_count": 1,
      "outputs": [
        {
          "output_type": "stream",
          "name": "stdout",
          "text": [
            "/content/drive/MyDrive/datasets/ppi\n"
          ]
        }
      ]
    },
    {
      "cell_type": "code",
      "execution_count": 2,
      "metadata": {
        "id": "Y2ONVHnH0_rp"
      },
      "outputs": [],
      "source": [
        "import pandas as pd\n",
        "import numpy as np\n"
      ]
    },
    {
      "cell_type": "code",
      "source": [
        "ls"
      ],
      "metadata": {
        "colab": {
          "base_uri": "https://localhost:8080/"
        },
        "id": "GS1VVbV-1kyj",
        "outputId": "7d3618da-52c8-4c77-d521-c476046429b5"
      },
      "execution_count": 3,
      "outputs": [
        {
          "output_type": "stream",
          "name": "stdout",
          "text": [
            "main.ipynb  MyModel  ppi_data.txt\n"
          ]
        }
      ]
    },
    {
      "cell_type": "markdown",
      "metadata": {
        "id": "aaRv7xR60_ry"
      },
      "source": [
        "读取数据"
      ]
    },
    {
      "cell_type": "code",
      "execution_count": 3,
      "metadata": {
        "id": "k5lbfSof0_r3"
      },
      "outputs": [],
      "source": [
        "data_path = './ppi_data.txt'\n",
        "data = pd.read_csv(data_path, sep='\\t', names=['head','tail','type'] )"
      ]
    },
    {
      "cell_type": "markdown",
      "metadata": {
        "id": "pG_4m7rY0_r4"
      },
      "source": [
        "数据探索"
      ]
    },
    {
      "cell_type": "code",
      "execution_count": 5,
      "metadata": {
        "colab": {
          "base_uri": "https://localhost:8080/",
          "height": 206
        },
        "id": "8lEUtRLd0_r5",
        "outputId": "9f8fc82f-d8bb-420f-95a0-d4b919be3ba7"
      },
      "outputs": [
        {
          "output_type": "execute_result",
          "data": {
            "text/plain": [
              "     head    tail       type\n",
              "0  KDELR2    ARF5  catalysis\n",
              "1    ARF5   AP1S2    binding\n",
              "2   AP1S2    ARF5    binding\n",
              "3    BET1    ARF5   reaction\n",
              "4    ARF5  SPTBN5  catalysis"
            ],
            "text/html": [
              "<div>\n",
              "<style scoped>\n",
              "    .dataframe tbody tr th:only-of-type {\n",
              "        vertical-align: middle;\n",
              "    }\n",
              "\n",
              "    .dataframe tbody tr th {\n",
              "        vertical-align: top;\n",
              "    }\n",
              "\n",
              "    .dataframe thead th {\n",
              "        text-align: right;\n",
              "    }\n",
              "</style>\n",
              "<table border=\"1\" class=\"dataframe\">\n",
              "  <thead>\n",
              "    <tr style=\"text-align: right;\">\n",
              "      <th></th>\n",
              "      <th>head</th>\n",
              "      <th>tail</th>\n",
              "      <th>type</th>\n",
              "    </tr>\n",
              "  </thead>\n",
              "  <tbody>\n",
              "    <tr>\n",
              "      <th>0</th>\n",
              "      <td>KDELR2</td>\n",
              "      <td>ARF5</td>\n",
              "      <td>catalysis</td>\n",
              "    </tr>\n",
              "    <tr>\n",
              "      <th>1</th>\n",
              "      <td>ARF5</td>\n",
              "      <td>AP1S2</td>\n",
              "      <td>binding</td>\n",
              "    </tr>\n",
              "    <tr>\n",
              "      <th>2</th>\n",
              "      <td>AP1S2</td>\n",
              "      <td>ARF5</td>\n",
              "      <td>binding</td>\n",
              "    </tr>\n",
              "    <tr>\n",
              "      <th>3</th>\n",
              "      <td>BET1</td>\n",
              "      <td>ARF5</td>\n",
              "      <td>reaction</td>\n",
              "    </tr>\n",
              "    <tr>\n",
              "      <th>4</th>\n",
              "      <td>ARF5</td>\n",
              "      <td>SPTBN5</td>\n",
              "      <td>catalysis</td>\n",
              "    </tr>\n",
              "  </tbody>\n",
              "</table>\n",
              "</div>"
            ]
          },
          "metadata": {},
          "execution_count": 5
        }
      ],
      "source": [
        "data.head()"
      ]
    },
    {
      "cell_type": "markdown",
      "source": [
        "先来观察y标签数据"
      ],
      "metadata": {
        "id": "sKr91_xJ49Pa"
      }
    },
    {
      "cell_type": "code",
      "execution_count": 4,
      "metadata": {
        "colab": {
          "base_uri": "https://localhost:8080/"
        },
        "id": "LcVP7LTY0_sE",
        "outputId": "1a2a9d03-c9b3-4a8b-a59a-4bbfa8779771"
      },
      "outputs": [
        {
          "output_type": "execute_result",
          "data": {
            "text/plain": [
              "binding              319615\n",
              "reaction              91341\n",
              "catalysis             46337\n",
              "activation            41232\n",
              "compound              25070\n",
              "inhibition            14797\n",
              "ptmod                  9971\n",
              "expression             3196\n",
              "state change            110\n",
              "phosphorylation          90\n",
              "repression               48\n",
              "ubiquitination           38\n",
              "dephosphorylation         5\n",
              "Name: type, dtype: int64"
            ]
          },
          "metadata": {},
          "execution_count": 4
        }
      ],
      "source": [
        "data['type'].value_counts()"
      ]
    },
    {
      "cell_type": "markdown",
      "source": [
        "y有着严重的类别不均衡问题\n",
        "\n",
        "处理类别不均衡问题可以用imblearn包将所有类处理均衡\n",
        "\n",
        "但是也不能完全上采样均衡，这样无效数据太多，也不能完全下采样均衡这样总数据太少\n",
        "\n",
        "抛弃imblearn包，手动下采样，上采样，维持都约等于4万条"
      ],
      "metadata": {
        "id": "MQgMUiau5CLi"
      }
    },
    {
      "cell_type": "code",
      "source": [
        "binding = data[data['type']=='binding']\n",
        "nums = 40000\n",
        "binding_under = binding.sample(nums)\n",
        "reaction = data[data['type']=='reaction']\n",
        "reaction_under = reaction.sample(nums)\n",
        "\n"
      ],
      "metadata": {
        "id": "CH8FQRSD5crU"
      },
      "execution_count": 9,
      "outputs": []
    },
    {
      "cell_type": "code",
      "source": [
        "namelist = data['type'].unique()"
      ],
      "metadata": {
        "id": "zUM8ORQN6bX-"
      },
      "execution_count": 10,
      "outputs": []
    },
    {
      "cell_type": "code",
      "source": [
        "res = []\n",
        "res.append(binding_under)\n",
        "res.append(reaction_under)\n",
        "res.append(data[data['type']=='catalysis'])\n",
        "res.append(data[data['type']=='activation'])\n",
        "for item in namelist[4:]:\n",
        "    tmp = data[data['type']==item]\n",
        "    res.append(tmp.sample(nums,replace=True))\n"
      ],
      "metadata": {
        "id": "mUPt0Eqt6aoS"
      },
      "execution_count": 14,
      "outputs": []
    },
    {
      "cell_type": "code",
      "source": [
        "data_b = pd.concat(res, axis=0)\n"
      ],
      "metadata": {
        "id": "r99jwxKy7b4G"
      },
      "execution_count": 15,
      "outputs": []
    },
    {
      "cell_type": "code",
      "source": [
        "del data\n",
        "del res"
      ],
      "metadata": {
        "id": "mkZMlZhn9MqK"
      },
      "execution_count": 32,
      "outputs": []
    },
    {
      "cell_type": "code",
      "source": [
        "data_b['type'].value_counts()"
      ],
      "metadata": {
        "colab": {
          "base_uri": "https://localhost:8080/"
        },
        "id": "wg32SX5d70yz",
        "outputId": "c367be07-12a6-4c0e-d94d-1922a2bc20f8"
      },
      "execution_count": 16,
      "outputs": [
        {
          "output_type": "execute_result",
          "data": {
            "text/plain": [
              "catalysis            46337\n",
              "activation           41232\n",
              "binding              40000\n",
              "reaction             40000\n",
              "inhibition           40000\n",
              "expression           40000\n",
              "ptmod                40000\n",
              "compound             40000\n",
              "phosphorylation      40000\n",
              "dephosphorylation    40000\n",
              "repression           40000\n",
              "ubiquitination       40000\n",
              "state change         40000\n",
              "Name: type, dtype: int64"
            ]
          },
          "metadata": {},
          "execution_count": 16
        }
      ]
    },
    {
      "cell_type": "markdown",
      "source": [
        "接下来观察训练数据X"
      ],
      "metadata": {
        "id": "3ou0bOvS7-zJ"
      }
    },
    {
      "cell_type": "code",
      "execution_count": 17,
      "metadata": {
        "colab": {
          "base_uri": "https://localhost:8080/"
        },
        "id": "smBnSND60_r7",
        "outputId": "8a851291-2f4d-49eb-929f-f7a24e598364"
      },
      "outputs": [
        {
          "output_type": "execute_result",
          "data": {
            "text/plain": [
              "CBLB       8450\n",
              "PPP3CC     8168\n",
              "PPP3CA     8167\n",
              "PPP3R1     8084\n",
              "PPP3CB     8039\n",
              "           ... \n",
              "ZBTB34        1\n",
              "ZNF709        1\n",
              "PLEKHH3       1\n",
              "ANKRD26       1\n",
              "REXO4         1\n",
              "Name: head, Length: 12618, dtype: int64"
            ]
          },
          "metadata": {},
          "execution_count": 17
        }
      ],
      "source": [
        "data_b['head'].value_counts()"
      ]
    },
    {
      "cell_type": "markdown",
      "metadata": {
        "id": "H6ZyAtSl0_r9"
      },
      "source": [
        "通过value_counts()函数可以看出来，总共有14626种不同的head，因此不能选择将其转换为onehot等稀疏向量，不然向量长度太长，过于冗余。\n",
        "选择word2vec的方式，将head转换为向量，将tail转换为向量.\n",
        "之后考虑到head和tail之间的先后顺序，选择将tail向量拼接在head向量后，得到一个新的向量，这个向量就是新的特征向量。"
      ]
    },
    {
      "cell_type": "code",
      "execution_count": 18,
      "metadata": {
        "colab": {
          "base_uri": "https://localhost:8080/"
        },
        "id": "di_lpR8g0_r-",
        "outputId": "6adcefda-0996-43f2-e23b-61de510ebcba"
      },
      "outputs": [
        {
          "output_type": "execute_result",
          "data": {
            "text/plain": [
              "(100000, 10551380)"
            ]
          },
          "metadata": {},
          "execution_count": 18
        }
      ],
      "source": [
        "from gensim.models import Word2Vec\n",
        "corpus = [*data_b['head'].tolist() , *data_b['tail'].tolist()]\n",
        "corpus = [corpus]\n",
        "w2v = Word2Vec(min_count=1,vector_size=100)\n",
        "# building the vocab\n",
        "w2v.build_vocab(corpus)\n",
        "# training the model\n",
        "w2v.train(corpus, total_examples=w2v.corpus_count, epochs=10)"
      ]
    },
    {
      "cell_type": "code",
      "execution_count": 19,
      "metadata": {
        "id": "JkV3GyNH0_sA"
      },
      "outputs": [],
      "source": [
        "w2v.save('./MyModel')"
      ]
    },
    {
      "cell_type": "code",
      "execution_count": 20,
      "metadata": {
        "colab": {
          "base_uri": "https://localhost:8080/"
        },
        "id": "fulhwhGJ0_sB",
        "outputId": "af40cc27-438f-4797-f5cc-7bec8c691d42"
      },
      "outputs": [
        {
          "output_type": "execute_result",
          "data": {
            "text/plain": [
              "array([[-4.7284877e-03,  1.9411300e-04, -9.7168740e-05, ...,\n",
              "        -3.5157166e-03, -1.3008331e-03,  9.1054989e-03],\n",
              "       [ 9.3073621e-03, -1.1870584e-03,  9.7893551e-03, ...,\n",
              "         4.9539991e-03, -6.3975989e-03, -7.9428339e-03],\n",
              "       [-7.8982776e-03, -2.6025348e-03,  1.1342557e-02, ...,\n",
              "        -1.3911286e-02,  1.1242576e-03,  1.4909430e-03],\n",
              "       ...,\n",
              "       [ 8.3489111e-03, -5.7309150e-04, -9.4367787e-03, ...,\n",
              "        -9.7564645e-03,  7.5821662e-03,  7.9967501e-03],\n",
              "       [-7.1909428e-03,  4.2328904e-03,  2.1633934e-03, ...,\n",
              "         9.4380733e-03,  7.0552849e-03,  6.7549516e-03],\n",
              "       [-7.1909428e-03,  4.2328904e-03,  2.1633934e-03, ...,\n",
              "         9.4380733e-03,  7.0552849e-03,  6.7549516e-03]], dtype=float32)"
            ]
          },
          "metadata": {},
          "execution_count": 20
        }
      ],
      "source": [
        "w2v.wv[corpus[0]]"
      ]
    },
    {
      "cell_type": "code",
      "execution_count": 33,
      "metadata": {
        "id": "xl5-TaeV0_sC"
      },
      "outputs": [],
      "source": [
        "X =[]\n",
        "head = data_b['head'].tolist()\n",
        "tail = data_b['tail'].tolist()\n",
        "for i in range(len(head)):\n",
        "    x = [*w2v.wv[head[i]], *w2v.wv[tail[i]]]\n",
        "    X.append(x)\n",
        "X = np.array(X)\n",
        "    "
      ]
    },
    {
      "cell_type": "code",
      "execution_count": 34,
      "metadata": {
        "colab": {
          "base_uri": "https://localhost:8080/"
        },
        "id": "72A1QorY0_sD",
        "outputId": "188a7633-6c47-4d34-c0df-17e416838785"
      },
      "outputs": [
        {
          "output_type": "execute_result",
          "data": {
            "text/plain": [
              "(527569, 200)"
            ]
          },
          "metadata": {},
          "execution_count": 34
        }
      ],
      "source": [
        "X.shape"
      ]
    },
    {
      "cell_type": "markdown",
      "metadata": {
        "id": "h7uIw1H30_sD"
      },
      "source": [
        "至此，我们已经完成了训练数据X的数据预处理，将原始数据转换为向量。\n",
        "接下来我们处理训练标签y。\n",
        "\n",
        "由于类别之间不存在关联，要用对标签用one hot编码"
      ]
    },
    {
      "cell_type": "code",
      "execution_count": 59,
      "metadata": {
        "id": "g7nL1ZdG0_sG"
      },
      "outputs": [],
      "source": [
        "from sklearn.preprocessing import Binarizer\n",
        "y = data_b['type']\n",
        "lb = LabelBinarizer()\n",
        "# y = le.fit_transform(y)\n",
        "\n",
        "y = lb.fit_transform(y.tolist())"
      ]
    },
    {
      "cell_type": "code",
      "execution_count": 51,
      "metadata": {
        "colab": {
          "base_uri": "https://localhost:8080/"
        },
        "id": "Ow3Ua40M0_sG",
        "outputId": "1563bcbc-c2f2-4547-b7fe-cd5c97980d86"
      },
      "outputs": [
        {
          "output_type": "execute_result",
          "data": {
            "text/plain": [
              "(527569, 13)"
            ]
          },
          "metadata": {},
          "execution_count": 51
        }
      ],
      "source": [
        "y.shape"
      ]
    },
    {
      "cell_type": "markdown",
      "source": [
        "划分训练集和测试集"
      ],
      "metadata": {
        "id": "DUYwFemtUzVr"
      }
    },
    {
      "cell_type": "code",
      "execution_count": 52,
      "metadata": {
        "id": "jceQ0g2G0_sK"
      },
      "outputs": [],
      "source": [
        "from sklearn.model_selection import train_test_split\n",
        "X_train, X_test, y_train, y_test = train_test_split(X,y, test_size=0.10, random_state=42)"
      ]
    },
    {
      "cell_type": "markdown",
      "source": [
        "准备用keras搭一个简易的神经网络模型进行分类"
      ],
      "metadata": {
        "id": "v94BoxInU3S4"
      }
    },
    {
      "cell_type": "code",
      "source": [
        "import pandas as pd\n",
        "import numpy as np\n",
        "import pickle\n",
        "from keras.preprocessing.text import Tokenizer\n",
        "from keras.models import Sequential, Model\n",
        "from keras.layers import Activation, Dense, Dropout\n",
        "from sklearn.preprocessing import LabelBinarizer\n",
        "import sklearn.datasets as skds\n",
        "from pathlib import Path\n",
        "import matplotlib.pyplot as plt\n",
        "import itertools\n",
        "from sklearn.metrics import confusion_matrix"
      ],
      "metadata": {
        "id": "Stv1ClWZRTmb"
      },
      "execution_count": 53,
      "outputs": []
    },
    {
      "cell_type": "code",
      "source": [
        "vocab_size = 200\n",
        "num_labels =13\n",
        "#let us build a basic model\n",
        "model = Sequential()\n",
        "model.add(Dense(512, input_shape=(vocab_size,)))\n",
        "model.add(Activation('relu'))\n",
        "model.add(Dropout(0.3))\n",
        "model.add(Dense(512))\n",
        "model.add(Activation('relu'))\n",
        "model.add(Dropout(0.3))\n",
        "model.add(Dense(num_labels))\n",
        "model.add(Activation('softmax'))\n",
        "model.summary()\n",
        "\n",
        "model.compile(loss='categorical_crossentropy',\n",
        "              optimizer='adam',\n",
        "              metrics=['accuracy'])"
      ],
      "metadata": {
        "colab": {
          "base_uri": "https://localhost:8080/"
        },
        "id": "FsOCwEMjRhZV",
        "outputId": "5fdcf045-cfd4-4087-b75e-709818c6d84d"
      },
      "execution_count": 54,
      "outputs": [
        {
          "output_type": "stream",
          "name": "stdout",
          "text": [
            "Model: \"sequential\"\n",
            "_________________________________________________________________\n",
            " Layer (type)                Output Shape              Param #   \n",
            "=================================================================\n",
            " dense (Dense)               (None, 512)               102912    \n",
            "                                                                 \n",
            " activation (Activation)     (None, 512)               0         \n",
            "                                                                 \n",
            " dropout (Dropout)           (None, 512)               0         \n",
            "                                                                 \n",
            " dense_1 (Dense)             (None, 512)               262656    \n",
            "                                                                 \n",
            " activation_1 (Activation)   (None, 512)               0         \n",
            "                                                                 \n",
            " dropout_1 (Dropout)         (None, 512)               0         \n",
            "                                                                 \n",
            " dense_2 (Dense)             (None, 13)                6669      \n",
            "                                                                 \n",
            " activation_2 (Activation)   (None, 13)                0         \n",
            "                                                                 \n",
            "=================================================================\n",
            "Total params: 372,237\n",
            "Trainable params: 372,237\n",
            "Non-trainable params: 0\n",
            "_________________________________________________________________\n"
          ]
        }
      ]
    },
    {
      "cell_type": "markdown",
      "source": [
        "模型结构如上\n",
        "\n",
        "接下来开始训练\n"
      ],
      "metadata": {
        "id": "URErFOWPU-dS"
      }
    },
    {
      "cell_type": "code",
      "source": [
        "num_epochs =10\n",
        "batch_size = 128\n",
        "history = model.fit(X_train, y_train,\n",
        "                    batch_size=batch_size,\n",
        "                    epochs=num_epochs,\n",
        "                    verbose=2,\n",
        "                    validation_split=0.2)"
      ],
      "metadata": {
        "colab": {
          "base_uri": "https://localhost:8080/"
        },
        "id": "HkBmMOySRls-",
        "outputId": "e58338e3-4785-4df1-d69f-8af7f79e0a45"
      },
      "execution_count": 55,
      "outputs": [
        {
          "output_type": "stream",
          "name": "stdout",
          "text": [
            "Epoch 1/10\n",
            "2968/2968 - 37s - loss: 1.3017 - accuracy: 0.5190 - val_loss: 1.1230 - val_accuracy: 0.5821 - 37s/epoch - 12ms/step\n",
            "Epoch 2/10\n",
            "2968/2968 - 28s - loss: 1.0328 - accuracy: 0.6171 - val_loss: 0.8940 - val_accuracy: 0.6709 - 28s/epoch - 9ms/step\n",
            "Epoch 3/10\n",
            "2968/2968 - 45s - loss: 0.8707 - accuracy: 0.6761 - val_loss: 0.7783 - val_accuracy: 0.7106 - 45s/epoch - 15ms/step\n",
            "Epoch 4/10\n",
            "2968/2968 - 35s - loss: 0.7875 - accuracy: 0.7048 - val_loss: 0.7212 - val_accuracy: 0.7270 - 35s/epoch - 12ms/step\n",
            "Epoch 5/10\n",
            "2968/2968 - 29s - loss: 0.7371 - accuracy: 0.7224 - val_loss: 0.6793 - val_accuracy: 0.7451 - 29s/epoch - 10ms/step\n",
            "Epoch 6/10\n",
            "2968/2968 - 33s - loss: 0.7027 - accuracy: 0.7350 - val_loss: 0.6510 - val_accuracy: 0.7557 - 33s/epoch - 11ms/step\n",
            "Epoch 7/10\n",
            "2968/2968 - 29s - loss: 0.6764 - accuracy: 0.7439 - val_loss: 0.6290 - val_accuracy: 0.7629 - 29s/epoch - 10ms/step\n",
            "Epoch 8/10\n",
            "2968/2968 - 36s - loss: 0.6553 - accuracy: 0.7523 - val_loss: 0.6148 - val_accuracy: 0.7668 - 36s/epoch - 12ms/step\n",
            "Epoch 9/10\n",
            "2968/2968 - 27s - loss: 0.6382 - accuracy: 0.7580 - val_loss: 0.6010 - val_accuracy: 0.7727 - 27s/epoch - 9ms/step\n",
            "Epoch 10/10\n",
            "2968/2968 - 34s - loss: 0.6244 - accuracy: 0.7629 - val_loss: 0.5896 - val_accuracy: 0.7762 - 34s/epoch - 11ms/step\n"
          ]
        }
      ]
    },
    {
      "cell_type": "markdown",
      "source": [
        "训练完毕，测试一下acc"
      ],
      "metadata": {
        "id": "FmPZhjpVVXB_"
      }
    },
    {
      "cell_type": "code",
      "source": [
        "score, acc = model.evaluate(X_test, y_test,batch_size=batch_size, verbose=2)\n",
        "\n",
        "print('Test accuracy:', acc)"
      ],
      "metadata": {
        "colab": {
          "base_uri": "https://localhost:8080/"
        },
        "id": "rfvjHuMAR6j4",
        "outputId": "2cb6b246-b0d0-471a-f1bd-30178917a996"
      },
      "execution_count": 56,
      "outputs": [
        {
          "output_type": "stream",
          "name": "stdout",
          "text": [
            "413/413 - 1s - loss: 0.5862 - accuracy: 0.7769 - 1s/epoch - 3ms/step\n",
            "Test accuracy: 0.7768637537956238\n"
          ]
        }
      ]
    },
    {
      "cell_type": "markdown",
      "source": [
        "画一下混淆矩阵看一看预测错误预测成功的比例"
      ],
      "metadata": {
        "id": "MRZ42MEJVZqN"
      }
    },
    {
      "cell_type": "code",
      "source": [
        "\n",
        "\n",
        "def plot_confusion_matrix(cm, classes,\n",
        "                          normalize=False,\n",
        "                          title='Confusion matrix',\n",
        "                          cmap=plt.cm.Blues):\n",
        "    \"\"\"\n",
        "    This function prints and plots the confusion matrix.\n",
        "    Normalization can be applied by setting `normalize=True`.\n",
        "    \"\"\"\n",
        "    if normalize:\n",
        "        cm = cm.astype('float') / cm.sum(axis=1)[:, np.newaxis]\n",
        "        print(\"Normalized confusion matrix\")\n",
        "    else:\n",
        "        print('Confusion matrix, without normalization')\n",
        "\n",
        "    # print(cm)\n",
        "\n",
        "    plt.imshow(cm, interpolation='nearest', cmap=cmap)\n",
        "    plt.title(title)\n",
        "    plt.colorbar()\n",
        "    tick_marks = np.arange(len(classes))\n",
        "    plt.xticks(tick_marks, classes, rotation=90)\n",
        "    plt.yticks(tick_marks, classes)\n",
        "\n",
        "    fmt = '.2f' if normalize else 'd'\n",
        "    thresh = cm.max() / 2.\n",
        "    for i, j in itertools.product(range(cm.shape[0]), range(cm.shape[1])):\n",
        "        plt.text(j, i, format(cm[i, j], fmt),\n",
        "                 horizontalalignment=\"center\",\n",
        "                 color=\"white\" if cm[i, j] > thresh else \"black\")\n",
        "\n",
        "    plt.tight_layout()\n",
        "    plt.ylabel('True label')\n",
        "    plt.xlabel('Predicted label')\n",
        "\n",
        "\n",
        "y_pred = model.predict(X_test);\n",
        "cnf_matrix = confusion_matrix(np.argmax(y_test, axis=1), np.argmax(y_pred, axis=1))\n",
        "\n",
        "# Plot normalized confusion matrix\n",
        "fig = plt.figure()\n",
        "fig.set_size_inches(14, 12, forward=True)\n",
        "#fig.align_labels()\n",
        "\n",
        "# fig.subplots_adjust(left=0.0, right=1.0, bottom=0.0, top=1.0)\n",
        "plot_confusion_matrix(cnf_matrix, classes=np.asarray(namelist), normalize=True,\n",
        "                      title='Normalized confusion matrix')\n",
        "\n",
        "fig.savefig(\"txt_classification-smote\" + str(num_epochs) + \".png\", pad_inches=5.0)"
      ],
      "metadata": {
        "colab": {
          "base_uri": "https://localhost:8080/",
          "height": 898
        },
        "id": "IG1vtmX6SHI5",
        "outputId": "14061f3f-6cd8-4fb7-ef9e-35d3251fb148"
      },
      "execution_count": 58,
      "outputs": [
        {
          "output_type": "stream",
          "name": "stdout",
          "text": [
            "Normalized confusion matrix\n"
          ]
        },
        {
          "output_type": "display_data",
          "data": {
            "text/plain": [
              "<Figure size 1008x864 with 2 Axes>"
            ],
            "image/png": "[encoded data removed]"
          },
          "metadata": {
            "needs_background": "light"
          }
        }
      ]
    },
    {
      "cell_type": "markdown",
      "source": [
        "把测试集前十个样本预测一下，对比真实的分类，看看效果"
      ],
      "metadata": {
        "id": "ydDOs4lCVfNu"
      }
    },
    {
      "cell_type": "code",
      "source": [
        "text_labels = lb.classes_\n",
        "\n",
        "for i in range(10):\n",
        "    prediction = model.predict(np.array([X_test[i]]))\n",
        "    predicted_label = text_labels[np.argmax(prediction[0])]\n",
        "    actual_label = text_labels[np.argmax(y_test[i])]\n",
        "    #print(test_files_names.iloc[i])\n",
        "    print('Actual label:' + actual_label)\n",
        "    print(\"Predicted label: \" + predicted_label)"
      ],
      "metadata": {
        "colab": {
          "base_uri": "https://localhost:8080/"
        },
        "id": "f-1xtXSoTwZx",
        "outputId": "92fba54c-49f9-4f11-842a-22a07b7ac1a3"
      },
      "execution_count": 60,
      "outputs": [
        {
          "output_type": "stream",
          "name": "stdout",
          "text": [
            "Actual label:binding\n",
            "Predicted label: binding\n",
            "Actual label:inhibition\n",
            "Predicted label: inhibition\n",
            "Actual label:phosphorylation\n",
            "Predicted label: phosphorylation\n",
            "Actual label:compound\n",
            "Predicted label: compound\n",
            "Actual label:phosphorylation\n",
            "Predicted label: phosphorylation\n",
            "Actual label:inhibition\n",
            "Predicted label: inhibition\n",
            "Actual label:compound\n",
            "Predicted label: compound\n",
            "Actual label:inhibition\n",
            "Predicted label: inhibition\n",
            "Actual label:state change\n",
            "Predicted label: state change\n",
            "Actual label:catalysis\n",
            "Predicted label: catalysis\n"
          ]
        }
      ]
    },
    {
      "cell_type": "code",
      "source": [
        "prediction = model.predict(X_test)\n",
        "predictions = np.argmax(prediction, axis = 1)"
      ],
      "metadata": {
        "id": "EF-wfQ6dSJ_l"
      },
      "execution_count": 61,
      "outputs": []
    },
    {
      "cell_type": "code",
      "source": [
        "predictions"
      ],
      "metadata": {
        "colab": {
          "base_uri": "https://localhost:8080/"
        },
        "id": "rvvmMefhSOUQ",
        "outputId": "a68b7041-79cf-4790-dbf5-ba92b11c79dd"
      },
      "execution_count": 62,
      "outputs": [
        {
          "output_type": "execute_result",
          "data": {
            "text/plain": [
              "array([ 1,  6,  7, ..., 11, 11, 11])"
            ]
          },
          "metadata": {},
          "execution_count": 62
        }
      ]
    },
    {
      "cell_type": "code",
      "source": [
        "y_test_labels = np.argmax(y_test, axis =1)"
      ],
      "metadata": {
        "id": "GPKmuWDeSPzP"
      },
      "execution_count": 63,
      "outputs": []
    },
    {
      "cell_type": "code",
      "source": [
        "y_test_labels"
      ],
      "metadata": {
        "colab": {
          "base_uri": "https://localhost:8080/"
        },
        "id": "IYwAEEi_SQQc",
        "outputId": "2f430c1a-72cd-49a9-e8ff-3768d340eba2"
      },
      "execution_count": 64,
      "outputs": [
        {
          "output_type": "execute_result",
          "data": {
            "text/plain": [
              "array([ 1,  6,  7, ..., 11, 11, 11])"
            ]
          },
          "metadata": {},
          "execution_count": 64
        }
      ]
    },
    {
      "cell_type": "code",
      "source": [
        "y_train_labels = np.argmax(y_train, axis =1)\n",
        "y_train_labels"
      ],
      "metadata": {
        "colab": {
          "base_uri": "https://localhost:8080/"
        },
        "id": "teEsouPDST-O",
        "outputId": "cadbf4d7-1603-4d48-a0a9-e4b3ed10de84"
      },
      "execution_count": 65,
      "outputs": [
        {
          "output_type": "execute_result",
          "data": {
            "text/plain": [
              "array([11,  6,  4, ...,  7,  0,  2])"
            ]
          },
          "metadata": {},
          "execution_count": 65
        }
      ]
    },
    {
      "cell_type": "markdown",
      "source": [
        "算一下通用的分类metrics"
      ],
      "metadata": {
        "id": "8Fi63uqqVnBL"
      }
    },
    {
      "cell_type": "code",
      "source": [
        "from sklearn.metrics import precision_recall_fscore_support as score\n",
        "\n",
        "precision, recall, fscore, support = score(y_test_labels, predictions)\n",
        "\n",
        "print('precision: {}'.format(precision))\n",
        "print('recall: {}'.format(recall))\n",
        "print('fscore: {}'.format(fscore))\n",
        "print('support: {}'.format(support))"
      ],
      "metadata": {
        "colab": {
          "base_uri": "https://localhost:8080/"
        },
        "id": "TBnnJyA3SXaf",
        "outputId": "5acff7d0-f437-4d6d-c137-917b6474c0c4"
      },
      "execution_count": 66,
      "outputs": [
        {
          "output_type": "stream",
          "name": "stdout",
          "text": [
            "precision: [0.62504673 0.48353372 0.43938656 0.87232081 1.         0.91506229\n",
            " 0.69905801 0.99729331 0.62263815 0.3932306  0.99924471 0.9987718\n",
            " 0.99851006]\n",
            "recall: [0.40621963 0.4623844  0.39222077 0.95364072 1.         0.99753086\n",
            " 0.70925553 1.         0.88051424 0.35859473 1.         1.\n",
            " 1.        ]\n",
            "fscore: [0.49241643 0.47272263 0.41446613 0.91116996 1.         0.95451861\n",
            " 0.70411985 0.99864482 0.72945599 0.37511484 0.99962221 0.99938552\n",
            " 0.99925447]\n",
            "support: [4116 4001 4602 3969 3982 4050 3976 4053 3967 3985 3969 4066 4021]\n"
          ]
        }
      ]
    },
    {
      "cell_type": "markdown",
      "source": [
        "● What’s your prediction outcome variable?\n",
        "\n",
        "    因为我使用了onehot编码，总共有13类，所以输出就是一个长度13的向量，值是1的index代表属于哪一类。\n",
        "\n",
        "● How’s the training cohort constructed?\n",
        "\n",
        "    训练数据分为训练集测试集，shuffle后输入神经网络模型\n",
        "    \n",
        "\n",
        "● What are the features used and how are they constructed?\n",
        "\n",
        "    我将head蛋白质和tail蛋白质从名字映射到size为100的向量。考虑到head和tail的前后关系，我选择将tail向量拼接在head向量后变成size为200的向量。作为训练数据。\n",
        "\n",
        "● How do you evaluate the model?\n",
        "\n",
        "    通过一些通用分类指标，precision，roc，auc，f1_score，还用了混淆矩阵\n",
        "\n",
        "● What would be the next steps?\n",
        "\n",
        "    首先由于时间限制，我最后一天才开始做。没有花更多的时间去训练这个神经网络，只训练了10个epoch，没有可视化loss曲线，没有调参并没有确定是否收敛，是否已经达到最高的精准度了。\n",
        "    \n",
        "    其次只用了一个小的神经网络。还有没有和其他机器学习模型比如xgb，逻辑回归，svm等做对比"
      ],
      "metadata": {
        "id": "FjhFzT1JNoFP"
      }
    },
    {
      "cell_type": "code",
      "execution_count": null,
      "metadata": {
        "id": "wYVRY97I0_sL"
      },
      "outputs": [],
      "source": [
        ""
      ]
    }
  ],
  "metadata": {
    "kernelspec": {
      "display_name": "Python 3.9.7 ('base')",
      "language": "python",
      "name": "python3"
    },
    "language_info": {
      "codemirror_mode": {
        "name": "ipython",
        "version": 3
      },
      "file_extension": ".py",
      "mimetype": "text/x-python",
      "name": "python",
      "nbconvert_exporter": "python",
      "pygments_lexer": "ipython3",
      "version": "3.9.7"
    },
    "orig_nbformat": 4,
    "vscode": {
      "interpreter": {
        "hash": "5179d32cf6ec497baf3f8a3ef987cc77c5d2dc691fdde20a56316522f61a7323"
      }
    },
    "colab": {
      "name": "main.ipynb",
      "provenance": [],
      "collapsed_sections": []
    }
  },
  "nbformat": 4,
  "nbformat_minor": 0
}